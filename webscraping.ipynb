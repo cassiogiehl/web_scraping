{
 "cells": [
  {
   "cell_type": "code",
   "execution_count": 2,
   "metadata": {},
   "outputs": [],
   "source": [
    "import pandas as pd\n",
    "import requests\n",
    "from bs4 import BeautifulSoup\n",
    "import matplotlib.pyplot as plt\n",
    "import seaborn as sns"
   ]
  },
  {
   "cell_type": "code",
   "execution_count": 4,
   "metadata": {},
   "outputs": [],
   "source": [
    "def scrape_stats(base_url, year_sart, year_end):\n",
    "    years = range(year_sart, year_end+1, 1)\n",
    "\n",
    "    final_df = pd.DataFrame()\n",
    "\n",
    "    for year in years:\n",
    "        print('Extraindo ano {}'.format(year))\n",
    "        req_url = base_url.format(year)\n",
    "        req = requests.get(req_url)\n",
    "        soup = BeautifulSoup(req.content, 'html.parser')\n",
    "        table = soup.find('table', {'id':'totals_stats'})\n",
    "        df = pd.read_html(str(table))[0]\n",
    "        df['Year'] = year\n",
    "\n",
    "        final_df = final_df.append(df)\n",
    "    \n",
    "    return final_df"
   ]
  },
  {
   "cell_type": "code",
   "execution_count": 6,
   "metadata": {},
   "outputs": [
    {
     "name": "stdout",
     "output_type": "stream",
     "text": [
      "Extraindo ano 2013\n",
      "Extraindo ano 2014\n",
      "Extraindo ano 2015\n",
      "Extraindo ano 2016\n",
      "Extraindo ano 2017\n",
      "Extraindo ano 2018\n"
     ]
    }
   ],
   "source": [
    "url = 'https://www.basketball-reference.com/leagues/NBA_{}_totals.html'\n",
    "df = scrape_stats(url, 2013, 2018)"
   ]
  },
  {
   "cell_type": "code",
   "execution_count": 8,
   "metadata": {},
   "outputs": [],
   "source": [
    "# Removendo as linhas que contém o mesmo valor dos nomes das colunas\n",
    "drop_indexes = df[df['Rk'] == 'Rk'].index\n",
    "df.drop(drop_indexes, inplace=True)\n"
   ]
  },
  {
   "cell_type": "code",
   "execution_count": 9,
   "metadata": {},
   "outputs": [],
   "source": [
    "# Apontando colunas numéricas\n",
    "numeric_cols = df.columns.drop(['Player', 'Pos', 'Tm'])\n",
    "df[numeric_cols] = df[numeric_cols].apply(pd.to_numeric)"
   ]
  },
  {
   "cell_type": "code",
   "execution_count": 15,
   "metadata": {},
   "outputs": [
    {
     "data": {
      "text/plain": [
       "<matplotlib.axes._subplots.AxesSubplot at 0x7f0685445908>"
      ]
     },
     "execution_count": 15,
     "metadata": {},
     "output_type": "execute_result"
    },
    {
     "data": {
      "image/png": "[encoded data removed]",
      "text/plain": [
       "<Figure size 432x288 with 1 Axes>"
      ]
     },
     "metadata": {
      "needs_background": "light"
     },
     "output_type": "display_data"
    }
   ],
   "source": [
    "# Gráfico de bolas de 3 pontos arremessadas por ano\n",
    "sns.barplot(x=df['Year'], y=df['3PA'])"
   ]
  },
  {
   "cell_type": "code",
   "execution_count": 21,
   "metadata": {},
   "outputs": [
    {
     "data": {
      "text/html": [
       "<div>\n",
       "<style scoped>\n",
       "    .dataframe tbody tr th:only-of-type {\n",
       "        vertical-align: middle;\n",
       "    }\n",
       "\n",
       "    .dataframe tbody tr th {\n",
       "        vertical-align: top;\n",
       "    }\n",
       "\n",
       "    .dataframe thead th {\n",
       "        text-align: right;\n",
       "    }\n",
       "</style>\n",
       "<table border=\"1\" class=\"dataframe\">\n",
       "  <thead>\n",
       "    <tr style=\"text-align: right;\">\n",
       "      <th></th>\n",
       "      <th>Player</th>\n",
       "      <th>3P</th>\n",
       "      <th>Year</th>\n",
       "    </tr>\n",
       "  </thead>\n",
       "  <tbody>\n",
       "    <tr>\n",
       "      <th>121</th>\n",
       "      <td>Stephen Curry</td>\n",
       "      <td>402</td>\n",
       "      <td>2016</td>\n",
       "    </tr>\n",
       "    <tr>\n",
       "      <th>124</th>\n",
       "      <td>Stephen Curry</td>\n",
       "      <td>324</td>\n",
       "      <td>2017</td>\n",
       "    </tr>\n",
       "    <tr>\n",
       "      <th>140</th>\n",
       "      <td>Stephen Curry</td>\n",
       "      <td>286</td>\n",
       "      <td>2015</td>\n",
       "    </tr>\n",
       "    <tr>\n",
       "      <th>123</th>\n",
       "      <td>Stephen Curry</td>\n",
       "      <td>272</td>\n",
       "      <td>2013</td>\n",
       "    </tr>\n",
       "    <tr>\n",
       "      <th>542</th>\n",
       "      <td>Klay Thompson</td>\n",
       "      <td>268</td>\n",
       "      <td>2017</td>\n",
       "    </tr>\n",
       "  </tbody>\n",
       "</table>\n",
       "</div>"
      ],
      "text/plain": [
       "            Player   3P  Year\n",
       "121  Stephen Curry  402  2016\n",
       "124  Stephen Curry  324  2017\n",
       "140  Stephen Curry  286  2015\n",
       "123  Stephen Curry  272  2013\n",
       "542  Klay Thompson  268  2017"
      ]
     },
     "execution_count": 21,
     "metadata": {},
     "output_type": "execute_result"
    }
   ],
   "source": [
    "# Ordena DF por bola de 3 pontos convertidas (decrescente)\n",
    "sorted_df = df.sort_values(by=['3P'], axis=0, ascending=False)\n",
    "sorted_df[['Player', '3P', 'Year']].head()"
   ]
  },
  {
   "cell_type": "code",
   "execution_count": 26,
   "metadata": {},
   "outputs": [
    {
     "data": {
      "text/html": [
       "<div>\n",
       "<style scoped>\n",
       "    .dataframe tbody tr th:only-of-type {\n",
       "        vertical-align: middle;\n",
       "    }\n",
       "\n",
       "    .dataframe tbody tr th {\n",
       "        vertical-align: top;\n",
       "    }\n",
       "\n",
       "    .dataframe thead th {\n",
       "        text-align: right;\n",
       "    }\n",
       "</style>\n",
       "<table border=\"1\" class=\"dataframe\">\n",
       "  <thead>\n",
       "    <tr style=\"text-align: right;\">\n",
       "      <th></th>\n",
       "      <th>Player</th>\n",
       "      <th>3P</th>\n",
       "      <th>3PA</th>\n",
       "    </tr>\n",
       "  </thead>\n",
       "  <tbody>\n",
       "    <tr>\n",
       "      <th>796</th>\n",
       "      <td>Stephen Curry</td>\n",
       "      <td>1496</td>\n",
       "      <td>3422</td>\n",
       "    </tr>\n",
       "    <tr>\n",
       "      <th>370</th>\n",
       "      <td>James Harden</td>\n",
       "      <td>1327</td>\n",
       "      <td>3659</td>\n",
       "    </tr>\n",
       "    <tr>\n",
       "      <th>532</th>\n",
       "      <td>Kyle Korver</td>\n",
       "      <td>1241</td>\n",
       "      <td>2746</td>\n",
       "    </tr>\n",
       "    <tr>\n",
       "      <th>519</th>\n",
       "      <td>Klay Thompson</td>\n",
       "      <td>1170</td>\n",
       "      <td>2774</td>\n",
       "    </tr>\n",
       "    <tr>\n",
       "      <th>171</th>\n",
       "      <td>Damian Lillard</td>\n",
       "      <td>1051</td>\n",
       "      <td>2893</td>\n",
       "    </tr>\n",
       "  </tbody>\n",
       "</table>\n",
       "</div>"
      ],
      "text/plain": [
       "             Player    3P   3PA\n",
       "796   Stephen Curry  1496  3422\n",
       "370    James Harden  1327  3659\n",
       "532     Kyle Korver  1241  2746\n",
       "519   Klay Thompson  1170  2774\n",
       "171  Damian Lillard  1051  2893"
      ]
     },
     "execution_count": 26,
     "metadata": {},
     "output_type": "execute_result"
    }
   ],
   "source": [
    "# Agrupando por jogador e somando os valores\n",
    "grouped_df = df.groupby('Player', as_index=False).sum()\n",
    "\n",
    "# Ordena DF por bola de 3 pontos convertidas (decrescente)\n",
    "sorted_df = grouped_df.sort_values(by=['3P'], axis=0, ascending=False)\n",
    "sorted_df[['Player', '3P', '3PA']].head()"
   ]
  },
  {
   "cell_type": "code",
   "execution_count": null,
   "metadata": {},
   "outputs": [],
   "source": []
  }
 ],
 "metadata": {
  "kernelspec": {
   "display_name": "Python 3",
   "language": "python",
   "name": "python3"
  },
  "language_info": {
   "codemirror_mode": {
    "name": "ipython",
    "version": 3
   },
   "file_extension": ".py",
   "mimetype": "text/x-python",
   "name": "python",
   "nbconvert_exporter": "python",
   "pygments_lexer": "ipython3",
   "version": "3.7.1"
  }
 },
 "nbformat": 4,
 "nbformat_minor": 2
}
